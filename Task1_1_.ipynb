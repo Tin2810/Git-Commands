{
  "nbformat": 4,
  "nbformat_minor": 0,
  "metadata": {
    "colab": {
      "provenance": [],
      "authorship_tag": "ABX9TyOUlUa2Y2zRxWYyKICm8Wyv",
      "include_colab_link": true
    },
    "kernelspec": {
      "name": "python3",
      "display_name": "Python 3"
    },
    "language_info": {
      "name": "python"
    }
  },
  "cells": [
    {
      "cell_type": "markdown",
      "metadata": {
        "id": "view-in-github",
        "colab_type": "text"
      },
      "source": [
        "<a href=\"https://colab.research.google.com/github/Tin2810/Git-Commands/blob/master/Task1_1_.ipynb\" target=\"_parent\"><img src=\"https://colab.research.google.com/assets/colab-badge.svg\" alt=\"Open In Colab\"/></a>"
      ]
    },
    {
      "cell_type": "code",
      "execution_count": 8,
      "metadata": {
        "colab": {
          "base_uri": "https://localhost:8080/"
        },
        "id": "6or3N9y_WHFp",
        "outputId": "e207ad39-75f5-4fe4-fcd1-d8b02a0d9673"
      },
      "outputs": [
        {
          "name": "stdout",
          "output_type": "stream",
          "text": [
            "Enter n 10\n"
          ]
        }
      ],
      "source": [
        "n = int(input(\"Enter n \"))"
      ]
    },
    {
      "cell_type": "code",
      "source": [
        "number_list = []\n",
        "n = int(input(\"Enter n \"))\n",
        "for i in range(n):\n",
        "  number = int (input(\"---\".format(i+1)))\n",
        "  number_list.append(number)\n",
        "print(\"So lon nhat trong danh sach la\", max(number_list))\n",
        "print(\"So be nhat trong danh sach la\", min(number_list))\n",
        "\n",
        ""
      ],
      "metadata": {
        "colab": {
          "base_uri": "https://localhost:8080/"
        },
        "id": "DYgkVciqXwrv",
        "outputId": "7d3af0bc-2074-44c5-da8c-78e0f1ff6895"
      },
      "execution_count": 16,
      "outputs": [
        {
          "output_type": "stream",
          "name": "stdout",
          "text": [
            "Enter n 3\n",
            "---1\n",
            "---2\n",
            "---3\n",
            "So lon nhat trong danh sach la 3\n",
            "So be nhat trong danh sach la 1\n"
          ]
        }
      ]
    },
    {
      "cell_type": "code",
      "source": [
        "number_list = []\n",
        "n = int(input(\"Enter n \"))\n",
        "for i in range(n):\n",
        "  number = int (input(\"---\".format(i+1)))\n",
        "  number_list.append(number)\n",
        "print(\"Tong cac phan tu trong mang la\", sum(number_list))"
      ],
      "metadata": {
        "colab": {
          "base_uri": "https://localhost:8080/"
        },
        "id": "T4YSxGn9aTpr",
        "outputId": "c3f4dd29-f65a-4f03-8286-2a99cc0705cf"
      },
      "execution_count": 20,
      "outputs": [
        {
          "output_type": "stream",
          "name": "stdout",
          "text": [
            "Enter n 5\n",
            "---1\n",
            "---2\n",
            "---3\n",
            "---4\n",
            "---5\n",
            "Tong cac phan tu trong mang la 15\n"
          ]
        }
      ]
    },
    {
      "cell_type": "markdown",
      "source": [],
      "metadata": {
        "id": "xXgWd-SvYAF0"
      }
    },
    {
      "cell_type": "code",
      "source": [
        "number_list = []\n",
        "n = int(input(\"Enter n \"))\n",
        "for i in range(n):\n",
        "  number = int (input(\"---\".format(i+1)))\n",
        "  number_list.append(number)\n",
        "number_list.sort()\n",
        "print(number_list)"
      ],
      "metadata": {
        "colab": {
          "base_uri": "https://localhost:8080/"
        },
        "id": "LbIeEluIbXT5",
        "outputId": "c84bbeba-d6c5-4385-8d5e-d582b7bbbd5f"
      },
      "execution_count": 26,
      "outputs": [
        {
          "output_type": "stream",
          "name": "stdout",
          "text": [
            "Enter n 3\n",
            "---10\n",
            "---3\n",
            "---5\n",
            "[3, 5, 10]\n"
          ]
        }
      ]
    },
    {
      "cell_type": "code",
      "source": [
        "number_list = []\n",
        "n = int(input(\"Enter n \"))\n",
        "for i in range(n):\n",
        "  number = int (input(\"---\".format(i+1)))\n",
        "  number_list.append(number)\n",
        "  positiveC = 0\n",
        "  negativeC = 0\n",
        "for num in number_list:\n",
        "  if num < 0:\n",
        "    positiveC = positiveC +1\n",
        "  if num > 0:\n",
        "   negativeC = negativeC +1\n",
        "print(\"So phan tu am trong mang la\", positiveC)\n",
        "print(\"So phan tu duong trong mang la\", negativeC)"
      ],
      "metadata": {
        "colab": {
          "base_uri": "https://localhost:8080/"
        },
        "id": "mtJRLu34ceca",
        "outputId": "12721ee1-9d63-41a5-f3cd-d1ae2d029a45"
      },
      "execution_count": 33,
      "outputs": [
        {
          "output_type": "stream",
          "name": "stdout",
          "text": [
            "Enter n 3\n",
            "----4\n",
            "----3\n",
            "---10\n",
            "So phan tu am trong mang la 2\n",
            "So phan tu duong trong mang la 1\n"
          ]
        }
      ]
    },
    {
      "cell_type": "code",
      "source": [],
      "metadata": {
        "id": "GBcusmgmcNkW"
      },
      "execution_count": null,
      "outputs": []
    }
  ]
}