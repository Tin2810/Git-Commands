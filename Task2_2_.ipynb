{
  "nbformat": 4,
  "nbformat_minor": 0,
  "metadata": {
    "colab": {
      "provenance": [],
      "authorship_tag": "ABX9TyNeJ+2XNMPtz+ij+7G820p1",
      "include_colab_link": true
    },
    "kernelspec": {
      "name": "python3",
      "display_name": "Python 3"
    },
    "language_info": {
      "name": "python"
    }
  },
  "cells": [
    {
      "cell_type": "markdown",
      "metadata": {
        "id": "view-in-github",
        "colab_type": "text"
      },
      "source": [
        "<a href=\"https://colab.research.google.com/github/Tin2810/Lab1_21130201_LeCongThanhTin/blob/master/Task2_2_.ipynb\" target=\"_parent\"><img src=\"https://colab.research.google.com/assets/colab-badge.svg\" alt=\"Open In Colab\"/></a>"
      ]
    },
    {
      "cell_type": "code",
      "execution_count": 5,
      "metadata": {
        "colab": {
          "base_uri": "https://localhost:8080/"
        },
        "id": "L2bYvJipp8K6",
        "outputId": "b9a7f66d-448b-4753-a454-4d2842fc8723"
      },
      "outputs": [
        {
          "output_type": "stream",
          "name": "stdout",
          "text": [
            "Input array:  [1 2 3 4]\n",
            "Reapeted 2 array:  [1 2 3 4 1 2 3 4]\n",
            "Reapeted 3 array:  [1 2 3 4 1 2 3 4 1 2 3 4]\n"
          ]
        }
      ],
      "source": [
        "import numpy as np\n",
        "\n",
        "array = np.array([1, 2, 3, 4])\n",
        "\n",
        "repeated2_arr = np.tile(array, 2)\n",
        "repeated3_arr = np.tile(array, 3)\n",
        "\n",
        "print(\"Input array: \", array)\n",
        "print(\"Reapeted 2 array: \", repeated2_arr)\n",
        "print(\"Reapeted 3 array: \", repeated3_arr)"
      ]
    }
  ]
}