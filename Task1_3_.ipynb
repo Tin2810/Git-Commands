{
  "nbformat": 4,
  "nbformat_minor": 0,
  "metadata": {
    "colab": {
      "provenance": [],
      "authorship_tag": "ABX9TyNUAT8oIlzLCnrU1+bsu4Ya",
      "include_colab_link": true
    },
    "kernelspec": {
      "name": "python3",
      "display_name": "Python 3"
    },
    "language_info": {
      "name": "python"
    }
  },
  "cells": [
    {
      "cell_type": "markdown",
      "metadata": {
        "id": "view-in-github",
        "colab_type": "text"
      },
      "source": [
        "<a href=\"https://colab.research.google.com/github/Tin2810/Lab1_21130201_LeCongThanhTin/blob/master/Task1_3_.ipynb\" target=\"_parent\"><img src=\"https://colab.research.google.com/assets/colab-badge.svg\" alt=\"Open In Colab\"/></a>"
      ]
    },
    {
      "cell_type": "code",
      "execution_count": 1,
      "metadata": {
        "id": "XSOvHGJTc-Ki"
      },
      "outputs": [],
      "source": [
        "class Post:\n",
        "    def __init__(self, content, subject):\n",
        "        self.content = content\n",
        "        self.subject = subject\n",
        "        self.like = 0\n",
        "\n",
        "class Account:\n",
        "    def __init__(self, name, email, country):\n",
        "        self.name = name\n",
        "        self.email = email\n",
        "        self.country = country\n",
        "        self.friends = []\n",
        "        self.posts = []\n",
        "class VerifiedAccount(Account):\n",
        "    def __init__(self, name, email, country, fromDate):\n",
        "        super().__init__(name, email, country)\n",
        "        self.fromDate = fromDate\n",
        "\n",
        "class NormalAccount(Account):\n",
        "    pass\n",
        "\n",
        "class AccountManager:\n",
        "    def __init__(self):\n",
        "        self.accounts = []\n",
        "\n",
        "    def create_account(self, name, email, country, is_verified=False, fromDate=None):\n",
        "        if is_verified:\n",
        "            new_account = VerifiedAccount(name, email, country, fromDate)\n",
        "        else:\n",
        "            new_account = NormalAccount(name, email, country)\n",
        "        self.accounts.append(new_account)\n",
        "        return new_account\n",
        "\n",
        "    def add_friend(self, account, friend):\n",
        "        account.friends.append(friend)\n",
        "\n",
        "    def create_post(self, account, content, subject):\n",
        "        new_post = Post(content, subject)\n",
        "        account.posts.append(new_post)\n",
        "        return new_post\n",
        "\n",
        "    def getMaxLikePostByFriend(self):\n",
        "        max_like = 0\n",
        "        max_like_post = None\n",
        "        for account in self.accounts:\n",
        "            for friend in account.friends:\n",
        "                for post in friend.posts:\n",
        "                    if post.like > max_like:\n",
        "                        max_like = post.like\n",
        "                        max_like_post = post\n",
        "        return max_like_post\n",
        "\n",
        "    def groupAccountsByPostLike(self):\n",
        "        group_by_posts = {'false': [], 'true': []}\n",
        "        for account in self.accounts:\n",
        "            if len(account.posts) < 10:\n",
        "                group_by_posts['false'].append(account)\n",
        "            else:\n",
        "                group_by_posts['true'].append(account)\n",
        "        return group_by_posts\n",
        "\n",
        "    def filterAccounts(self, country):\n",
        "        filtered_accounts = [account for account in self.accounts if account.country == country]\n",
        "        filtered_accounts.sort(key=lambda x: (len(x.posts), x.name), reverse=True)\n",
        "        return filtered_accounts\n",
        ""
      ]
    }
  ]
}