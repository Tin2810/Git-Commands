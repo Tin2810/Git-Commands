{
  "nbformat": 4,
  "nbformat_minor": 0,
  "metadata": {
    "colab": {
      "provenance": [],
      "toc_visible": true,
      "authorship_tag": "ABX9TyPVkPalYUY1VpZpDehVT3fb",
      "include_colab_link": true
    },
    "kernelspec": {
      "name": "python3",
      "display_name": "Python 3"
    },
    "language_info": {
      "name": "python"
    }
  },
  "cells": [
    {
      "cell_type": "markdown",
      "metadata": {
        "id": "view-in-github",
        "colab_type": "text"
      },
      "source": [
        "<a href=\"https://colab.research.google.com/github/Tin2810/MachineLearning/blob/master/Task1_2.ipynb\" target=\"_parent\"><img src=\"https://colab.research.google.com/assets/colab-badge.svg\" alt=\"Open In Colab\"/></a>"
      ]
    },
    {
      "cell_type": "code",
      "execution_count": 7,
      "metadata": {
        "colab": {
          "base_uri": "https://localhost:8080/"
        },
        "id": "NhNqPEGEgQar",
        "outputId": "1ad6564e-cb2e-44ca-8302-d99a83f1f631"
      },
      "outputs": [
        {
          "output_type": "stream",
          "name": "stdout",
          "text": [
            "Enter n 3\n",
            "S(n)=  9\n"
          ]
        }
      ],
      "source": [
        "n = int(input(\"Enter n \"))\n",
        "def S(n):\n",
        "  ketqua = 0\n",
        "  congsai = 1\n",
        "  for i in range(1, n+1):\n",
        "    congsai *= i\n",
        "    ketqua += congsai\n",
        "  return ketqua\n",
        "print(\"S(n)= \", S(n))\n",
        "\n"
      ]
    }
  ]
}