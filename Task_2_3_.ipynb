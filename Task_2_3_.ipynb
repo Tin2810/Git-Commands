{
  "nbformat": 4,
  "nbformat_minor": 0,
  "metadata": {
    "colab": {
      "provenance": [],
      "authorship_tag": "ABX9TyOhY/IUA3XSFHEdaNok2PqT",
      "include_colab_link": true
    },
    "kernelspec": {
      "name": "python3",
      "display_name": "Python 3"
    },
    "language_info": {
      "name": "python"
    }
  },
  "cells": [
    {
      "cell_type": "markdown",
      "metadata": {
        "id": "view-in-github",
        "colab_type": "text"
      },
      "source": [
        "<a href=\"https://colab.research.google.com/github/Tin2810/Lab1_21130201_LeCongThanhTin/blob/master/Task_2_3_.ipynb\" target=\"_parent\"><img src=\"https://colab.research.google.com/assets/colab-badge.svg\" alt=\"Open In Colab\"/></a>"
      ]
    },
    {
      "cell_type": "code",
      "execution_count": 12,
      "metadata": {
        "colab": {
          "base_uri": "https://localhost:8080/"
        },
        "id": "p12RILK7IlJi",
        "outputId": "14793e7f-3f33-4dc4-ba87-43a68d89b3aa"
      },
      "outputs": [
        {
          "output_type": "stream",
          "name": "stdout",
          "text": [
            "Input array: \n",
            " [[0.42 0.48 0.32]\n",
            " [0.74 0.58 0.38]\n",
            " [0.51 0.34 0.15]]\n",
            "Result array: \n",
            " [[0.42 0.48 0.32]\n",
            " [0.5  0.5  0.38]\n",
            " [0.5  0.34 0.15]]\n"
          ]
        }
      ],
      "source": [
        "import numpy as np\n",
        "\n",
        "arr = np.array([[0.42, 0.48, 0.32], [0.74, 0.58, 0.38], [0.51, 0.34, 0.15]])\n",
        "print(\"Input array: \\n\", arr)\n",
        "threshold = 0.5\n",
        "replacement_value = 0.5\n",
        "\n",
        "arr[arr > threshold] = replacement_value\n",
        "\n",
        "\n",
        "print(\"Result array: \\n\", arr)"
      ]
    }
  ]
}